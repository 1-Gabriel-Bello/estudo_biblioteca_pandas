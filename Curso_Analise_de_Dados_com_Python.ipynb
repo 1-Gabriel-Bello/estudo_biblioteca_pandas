{
  "nbformat": 4,
  "nbformat_minor": 0,
  "metadata": {
    "colab": {
      "provenance": [],
      "authorship_tag": "ABX9TyPAXP0CHLJ/OyixCPfSov2H",
      "include_colab_link": true
    },
    "kernelspec": {
      "name": "python3",
      "display_name": "Python 3"
    },
    "language_info": {
      "name": "python"
    }
  },
  "cells": [
    {
      "cell_type": "markdown",
      "metadata": {
        "id": "view-in-github",
        "colab_type": "text"
      },
      "source": [
        "<a href=\"https://colab.research.google.com/github/1-Gabriel-Bello/estudo_biblioteca_pandas/blob/main/Curso_Analise_de_Dados_com_Python.ipynb\" target=\"_parent\"><img src=\"https://colab.research.google.com/assets/colab-badge.svg\" alt=\"Open In Colab\"/></a>"
      ]
    },
    {
      "cell_type": "code",
      "source": [
        "## Baixa bibliotecas adicionais\n",
        "%pip install plotly\n",
        "%pip install cufflinks\n",
        "%pip install chart-studio\n",
        "\n",
        "\n",
        "## Importa as bibliotecas\n",
        "import pandas as pd\n",
        "import seaborn as sns\n",
        "import matplotlib.pyplot as plt\n",
        "import chart_studio.plotly as py\n",
        "import cufflinks as cf\n",
        "import plotly.graph_objects as go\n",
        "import plotly.express as px\n",
        "\n",
        "\n",
        "## Busca os arquivos com as bases de dados\n",
        "vendas = pd.read_excel('varejo.xlsx')\n",
        "clientes = pd.read_excel('cliente_varejo.xlsx')\n",
        "\n",
        "\n",
        "## Tratamento dos dados (Início) ----------------------------------------------\n",
        "vendas['idcanalvenda'] = vendas['idcanalvenda'].str.replace('APP', 'Aplicativo')\n",
        "\n",
        "vendas['Nome_Departamento'] = vendas['Nome_Departamento'].str.replace(' ', '_')\n",
        "\n",
        "vendas['estado'].fillna('MS', inplace = True)\n",
        "\n",
        "media_preco = vendas['Preço'].mean()\n",
        "vendas['Preço'].fillna(media_preco, inplace = True)\n",
        "\n",
        "vendas = vendas.query('Preço < Preço_com_frete')\n",
        "\n",
        "vendas_por_mês = vendas\n",
        "vendas_por_mês['Mês'] = vendas_por_mês['Data'].dt.month\n",
        "\n",
        "clientes = clientes.astype ({'renda' : 'float64'})\n",
        "\n",
        "vendas_clientes = vendas.merge(clientes, how = 'left', on = 'cliente_Log')\n",
        "## Tratamento dos dados (Fim) -------------------------------------------------------\n",
        "\n",
        "## Departamentos mais vendios\n",
        "DemartamentosMaisVendidos = vendas.groupby('Nome_Departamento').idcompra.nunique().sort_values(ascending = False)\n",
        "\n",
        "## Média de preço com frete por nome de departamento\n",
        "MediaPrecoFretePorDepartamento = round(vendas.groupby('Nome_Departamento').Preço_com_frete.mean().sort_values(ascending = False), 2)\n",
        "\n",
        "## Quantidade de vendas por Data\n",
        "QtdVendas = vendas.groupby('Data').idcompra.nunique()\n",
        "\n",
        "## Quantidade de vendas por mês\n",
        "QtdVendasPorMes = vendas_por_mês.groupby('Mês').idcompra.nunique()\n",
        "\n",
        "## Média de renda por canal de vendas\n",
        "MediaRendaPorCanalVenda = round(vendas_clientes.groupby('idcanalvenda').renda.mean().sort_values(ascending = False), 2)\n",
        "\n",
        "## Média de idade de clientes por bandeira\n",
        "MediaIdadePorBandeira = round(vendas_clientes.groupby('bandeira').idade.mean().sort_values(ascending = False), 2)\n",
        "\n"
      ],
      "metadata": {
        "id": "shYm1ovtmtL5"
      },
      "execution_count": null,
      "outputs": []
    },
    {
      "cell_type": "markdown",
      "source": [
        "matplotlib  -----------------------------------------------------------"
      ],
      "metadata": {
        "id": "MO8szm1p8Vl-"
      }
    },
    {
      "cell_type": "code",
      "source": [
        "## Gráfico: Departamentos mais Vendidos\n",
        "fig = plt.figure(figsize = (30, 20));\n",
        "plt.bar(DemartamentosMaisVendidos.index, DemartamentosMaisVendidos.values, color = 'green');\n",
        "plt.title('Departamentos mais Vendidos', loc = 'center', fontsize = 14, fontweight = 'bold', color = 'black');\n",
        "plt.ylabel('Vendas', fontweight = 'bold');\n",
        "plt.xlabel('Departamento', fontweight = 'bold');\n",
        "plt.show()"
      ],
      "metadata": {
        "id": "qog5UgNI4RhW"
      },
      "execution_count": null,
      "outputs": []
    },
    {
      "cell_type": "code",
      "source": [
        "\n",
        "## Gráfico: Média de Preços com Frete por Departamento\n",
        "fig = plt.figure(figsize = (30, 20));\n",
        "plt.bar(MediaPrecoFretePorDepartamento.index, MediaPrecoFretePorDepartamento.values, color = 'green');\n",
        "plt.title('Média de Preços com Frete por Departamento', loc = 'center', fontsize = 14, fontweight = 'bold', color = 'black');\n",
        "plt.ylabel('Preço com Frete', fontweight = 'bold');\n",
        "plt.xlabel('Departamento', fontweight = 'bold');\n",
        "plt.show()"
      ],
      "metadata": {
        "id": "WnsURZbL3Qzu"
      },
      "execution_count": null,
      "outputs": []
    },
    {
      "cell_type": "code",
      "source": [
        "## Gráfico: Quantidade de Vendas por Data\n",
        "fig = plt.figure(figsize = (14, 5));\n",
        "plt.plot(QtdVendas.index, QtdVendas.values, color = 'green');\n",
        "plt.title('Qtd de Vendas por Data', loc = 'center', fontsize = 14, fontweight = 'bold', color = 'black');\n",
        "plt.ylabel('Qtd de Vendas', fontweight = 'bold');\n",
        "plt.xlabel('Data', fontweight = 'bold');\n",
        "plt.show();"
      ],
      "metadata": {
        "id": "HVtYWO7BvUZn"
      },
      "execution_count": null,
      "outputs": []
    },
    {
      "cell_type": "code",
      "source": [
        "## Gráfico: Quantidade de Vendas por Mês\n",
        "fig = plt.figure(figsize = (14, 5));\n",
        "plt.plot(QtdVendasPorMes.index, QtdVendasPorMes.values, color = 'green');\n",
        "plt.title('Qtd de Vendas por Mês', loc = 'center', fontsize = 14, fontweight = 'bold', color = 'black');\n",
        "plt.ylabel('Qtd de Vendas', fontweight = 'bold');\n",
        "plt.xlabel('Mês', fontweight = 'bold');\n",
        "plt.show();"
      ],
      "metadata": {
        "id": "QR8XUNLzDLfK"
      },
      "execution_count": null,
      "outputs": []
    },
    {
      "cell_type": "code",
      "source": [
        "## Gráfico: Renda Média por Canal de Venda\n",
        "fig = plt.figure(figsize = (5, 4));\n",
        "plt.bar(MediaRendaPorCanalVenda.index, MediaRendaPorCanalVenda.values, color = 'green');\n",
        "plt.title('Renda Média por Canal de Venda', loc = 'center', fontsize = 14, fontweight = 'bold', color = 'black');\n",
        "plt.ylabel('Renda', fontweight = 'bold');\n",
        "plt.xlabel('Canal de Venda', fontweight = 'bold');\n",
        "plt.show();"
      ],
      "metadata": {
        "id": "S_QdcdR_tf3m"
      },
      "execution_count": null,
      "outputs": []
    },
    {
      "cell_type": "code",
      "source": [
        "## Gráfico: Idade Média por Bandeira\n",
        "fig = plt.figure(figsize = (5, 4));\n",
        "plt.bar(MediaIdadePorBandeira.index, MediaIdadePorBandeira.values, color = 'green');\n",
        "plt.title('Idade Média por Bandeira', loc = 'center', fontsize = 14, fontweight = 'bold', color = 'black');\n",
        "plt.ylabel('Idade', fontweight = 'bold');\n",
        "plt.xlabel('Bandeira', fontweight = 'bold');\n",
        "plt.show();"
      ],
      "metadata": {
        "id": "nRmnVts2l3RO"
      },
      "execution_count": null,
      "outputs": []
    },
    {
      "cell_type": "markdown",
      "source": [
        "-----------------------------------------------------------------------"
      ],
      "metadata": {
        "id": "dihNd4FR8lLy"
      }
    },
    {
      "cell_type": "markdown",
      "source": [
        "plotly  ---------------------------------------------------------------"
      ],
      "metadata": {
        "id": "9-7HEOev-UxH"
      }
    },
    {
      "cell_type": "code",
      "source": [
        "## Gráfico: Departamentos mais Vendidos\n",
        "px.bar(DemartamentosMaisVendidos, x = DemartamentosMaisVendidos.index, y = 'idcompra')"
      ],
      "metadata": {
        "id": "mwmYw7P19xMd"
      },
      "execution_count": null,
      "outputs": []
    },
    {
      "cell_type": "code",
      "source": [
        "## Gráfico: Média de Preços com Frete por Departamento\n",
        "px.bar(MediaPrecoFretePorDepartamento, x = MediaPrecoFretePorDepartamento.index, y = 'Preço_com_frete')"
      ],
      "metadata": {
        "id": "qw1w8PlH-MzG"
      },
      "execution_count": null,
      "outputs": []
    },
    {
      "cell_type": "code",
      "source": [
        "## Gráfico: Quantidade de Vendas por Mês\n",
        "px.line(QtdVendasPorMes, x = QtdVendasPorMes.index, y = 'idcompra')"
      ],
      "metadata": {
        "id": "2SACocAmFLTi"
      },
      "execution_count": null,
      "outputs": []
    },
    {
      "cell_type": "code",
      "source": [
        "## Gráfico: Quantidade de Vendas por Data\n",
        "px.line(QtdVendas, x = QtdVendas.index, y = 'idcompra')"
      ],
      "metadata": {
        "id": "CUY2-kuy9kdq"
      },
      "execution_count": null,
      "outputs": []
    },
    {
      "cell_type": "code",
      "source": [
        "## Gráfico: Renda Média por Canal de Venda\n",
        "px.bar(MediaRendaPorCanalVenda, x = MediaRendaPorCanalVenda.index, y = 'renda')"
      ],
      "metadata": {
        "id": "t7DR7tqZ-CaG"
      },
      "execution_count": null,
      "outputs": []
    },
    {
      "cell_type": "code",
      "source": [
        "## Gráfico: Idade Média por Bandeira\n",
        "px.bar(MediaIdadePorBandeira, x = MediaIdadePorBandeira.index, y = 'idade')"
      ],
      "metadata": {
        "id": "iJREDhC671Fb"
      },
      "execution_count": null,
      "outputs": []
    }
  ]
}